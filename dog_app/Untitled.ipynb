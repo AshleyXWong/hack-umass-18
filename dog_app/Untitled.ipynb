{
 "cells": [
  {
   "cell_type": "code",
   "execution_count": 1,
   "metadata": {},
   "outputs": [
    {
     "name": "stdout",
     "output_type": "stream",
     "text": [
      "hi\n"
     ]
    }
   ],
   "source": [
    "print (\"hi\")"
   ]
  },
  {
   "cell_type": "code",
   "execution_count": 2,
   "metadata": {},
   "outputs": [
    {
     "ename": "FileNotFoundError",
     "evalue": "[Errno 2] No such file or directory: '-f'",
     "traceback": [
      "\u001b[0;31m---------------------------------------------------------------------------\u001b[0m",
      "\u001b[0;31mFileNotFoundError\u001b[0m                         Traceback (most recent call last)",
      "\u001b[0;32m<ipython-input-2-c9492b45f2cf>\u001b[0m in \u001b[0;36m<module>\u001b[0;34m()\u001b[0m\n\u001b[1;32m      1\u001b[0m \u001b[0;32mimport\u001b[0m \u001b[0msys\u001b[0m\u001b[0;34m\u001b[0m\u001b[0m\n\u001b[0;32m----> 2\u001b[0;31m \u001b[0;32mwith\u001b[0m \u001b[0mopen\u001b[0m\u001b[0;34m(\u001b[0m\u001b[0msys\u001b[0m\u001b[0;34m.\u001b[0m\u001b[0margv\u001b[0m\u001b[0;34m[\u001b[0m\u001b[0;36m1\u001b[0m\u001b[0;34m]\u001b[0m\u001b[0;34m)\u001b[0m \u001b[0;32mas\u001b[0m \u001b[0mf\u001b[0m\u001b[0;34m:\u001b[0m\u001b[0;34m\u001b[0m\u001b[0m\n\u001b[0m\u001b[1;32m      3\u001b[0m     \u001b[0mppmformat\u001b[0m \u001b[0;34m=\u001b[0m \u001b[0mf\u001b[0m\u001b[0;34m.\u001b[0m\u001b[0mreadline\u001b[0m\u001b[0;34m(\u001b[0m\u001b[0;34m)\u001b[0m\u001b[0;34m.\u001b[0m\u001b[0mstrip\u001b[0m\u001b[0;34m(\u001b[0m\u001b[0;34m)\u001b[0m\u001b[0;34m\u001b[0m\u001b[0m\n\u001b[1;32m      4\u001b[0m     \u001b[0mppmsize\u001b[0m \u001b[0;34m=\u001b[0m \u001b[0mf\u001b[0m\u001b[0;34m.\u001b[0m\u001b[0mreadline\u001b[0m\u001b[0;34m(\u001b[0m\u001b[0;34m)\u001b[0m\u001b[0;34m.\u001b[0m\u001b[0mstrip\u001b[0m\u001b[0;34m(\u001b[0m\u001b[0;34m)\u001b[0m\u001b[0;34m\u001b[0m\u001b[0m\n\u001b[1;32m      5\u001b[0m     \u001b[0mppmmaxval\u001b[0m \u001b[0;34m=\u001b[0m \u001b[0mf\u001b[0m\u001b[0;34m.\u001b[0m\u001b[0mreadline\u001b[0m\u001b[0;34m(\u001b[0m\u001b[0;34m)\u001b[0m\u001b[0;34m.\u001b[0m\u001b[0mstrip\u001b[0m\u001b[0;34m(\u001b[0m\u001b[0;34m)\u001b[0m\u001b[0;34m\u001b[0m\u001b[0m\n",
      "\u001b[0;31mFileNotFoundError\u001b[0m: [Errno 2] No such file or directory: '-f'"
     ],
     "output_type": "error"
    }
   ],
   "source": [
    "import sys\n",
    "with open(sys.argv[1]) as f:\n",
    "    ppmformat = f.readline().strip()\n",
    "    ppmsize = f.readline().strip()\n",
    "    ppmmaxval = f.readline().strip()\n",
    "    print(\"Format: %s; Size: %s; Max Gray Value %s\" % (ppmformat, ppmsize, ppmmaxval))\n",
    "    sizex, sizey = int(ppmsize.split(\" \")[0]), int(ppmsize.split(\" \")[1])\n",
    "    imageraw = [int(pixel) for pixel in f.read(-1).split(\" \") if pixel != \"\\n\"]\n",
    "    image = list()\n",
    "    for i in range(sizey):\n",
    "        row = list()\n",
    "        for j in range(sizex):\n",
    "            row.append(imageraw[i*sizex+j])\n",
    "        image.append(row)\n",
    "\n",
    "import copy\n",
    "sobelimagex = copy.deepcopy(image) # make copy to get the same structure, values are irrelevant\n",
    "\n",
    "for indexi, i in enumerate(image):\n",
    "    for indexj, j in enumerate(i):\n",
    "        upperleft, upperright, left, right, lowerleft, lowerright = 0,0,0,0,0,0\n",
    "        if indexj > 0: # forget the left border\n",
    "            if indexi > 0:\n",
    "                upperleft = image[indexi - 1][indexj - 1] * 1\n",
    "            left = image[indexi    ][indexj - 1] * 2\n",
    "            if indexi < sizey - 1:\n",
    "                lowerleft = image[indexi + 1][indexj - 1] * 1\n",
    "        \n",
    "        if indexj < sizex - 1: # forget the right border\n",
    "            if indexi > 0:\n",
    "                upperright = image[indexi - 1][indexj + 1] * -1\n",
    "            right =      image[indexi    ][indexj + 1] * -2\n",
    "            if indexi < sizey - 1:\n",
    "                lowerright = image[indexi + 1][indexj + 1] * -1\n",
    "        val = upperleft + upperright + left + right + lowerleft + lowerright\n",
    "        if val > 255:\n",
    "            val = 255\n",
    "        if val < 0:\n",
    "            val = 0\n",
    "        sobelimagex [indexi][indexj] = val\n",
    "\n",
    "foo = open(\"foobar.pgm\", mode=\"w\")\n",
    "foo.write(ppmformat + \"\\n\" + ppmsize + \"\\n\" + ppmmaxval + \"\\n\")\n",
    "cnt = 0\n",
    "for i in sobelimagex:\n",
    "    for j in i:\n",
    "        cnt += 1\n",
    "        foo.write(str(j) + \" \")\n",
    "        if cnt % 18 == 0:\n",
    "            foo.write(\"\\n\")\n",
    "foo.close()"
   ]
  },
  {
   "cell_type": "code",
   "execution_count": null,
   "metadata": {},
   "outputs": [],
   "source": []
  }
 ],
 "metadata": {
  "kernelspec": {
   "display_name": "Python 3",
   "language": "python",
   "name": "python3"
  },
  "language_info": {
   "codemirror_mode": {
    "name": "ipython",
    "version": 3
   },
   "file_extension": ".py",
   "mimetype": "text/x-python",
   "name": "python",
   "nbconvert_exporter": "python",
   "pygments_lexer": "ipython3",
   "version": "3.7.0"
  }
 },
 "nbformat": 4,
 "nbformat_minor": 2
}
